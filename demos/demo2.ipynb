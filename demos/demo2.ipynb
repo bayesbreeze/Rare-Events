{
 "cells": [
  {
   "cell_type": "markdown",
   "source": [
    "<a href=\"https://colab.research.google.com/github/bayesbreeze/Rare-Events/blob/main/demos/demo2.ipynb\" target=\"_parent\"><img src=\"https://colab.research.google.com/assets/colab-badge.svg\" alt=\"Open In Colab\"/></a>"
   ],
   "metadata": {
    "collapsed": false,
    "pycharm": {
     "name": "#%% md\n"
    }
   }
  },
  {
   "cell_type": "code",
   "execution_count": 1,
   "outputs": [
    {
     "name": "stdout",
     "output_type": "stream",
     "text": [
      "Cloning into 'Rare-Events'...\r\n",
      "remote: Enumerating objects: 203, done.\u001B[K\r\n",
      "remote: Counting objects: 100% (203/203), done.\u001B[K\r\n",
      "remote: Compressing objects: 100% (151/151), done.\u001B[Kobjects:  28% (43/151)\u001B[Kremote: Compressing objects:  66% (100/151)\u001B[K\r\n",
      "remote: Total 203 (delta 67), reused 177 (delta 49), pack-reused 0\u001B[K\r\n",
      "Receiving objects: 100% (203/203), 2.88 MiB | 4.35 MiB/s, done.\r\n",
      "Resolving deltas: 100% (67/67), done.\r\n"
     ]
    }
   ],
   "source": [
    "!git clone https://github.com/bayesbreeze/Rare-Events.git"
   ],
   "metadata": {
    "collapsed": false,
    "pycharm": {
     "name": "#%%\n"
    }
   }
  },
  {
   "cell_type": "code",
   "execution_count": 2,
   "outputs": [
    {
     "name": "stdout",
     "output_type": "stream",
     "text": [
      "/Users/John/Documents/AustraliaStudy/Study/Research/project/demos/Rare-Events/demos/Rare-Events/demos\n"
     ]
    }
   ],
   "source": [
    "cd Rare-Events/demos"
   ],
   "metadata": {
    "collapsed": false,
    "pycharm": {
     "name": "#%%\n"
    }
   }
  },
  {
   "cell_type": "markdown",
   "source": [
    "# 1D example\n",
    "\n"
   ],
   "metadata": {
    "collapsed": false,
    "pycharm": {
     "name": "#%% md\n"
    }
   }
  },
  {
   "cell_type": "code",
   "execution_count": 1,
   "outputs": [
    {
     "name": "stdout",
     "output_type": "stream",
     "text": [
      "==run on=>  cpu\n"
     ]
    }
   ],
   "source": [
    "import torch\n",
    "import numpy as np\n",
    "from torch.distributions.normal import Normal\n",
    "import torch.optim as optim\n",
    "import torch.nn as nn\n",
    "from nde.flows import realnvp\n",
    "import tqdm\n",
    "import matplotlib.pyplot as plt\n",
    "from nde.flows import autoregressive as ar\n",
    "\n",
    "centre = 0.0\n",
    "level = 3\n",
    "xlimits = [3, 20]\n",
    "ylimits = [0, 1]\n",
    "\n",
    "device = torch.device(\"cpu\")\n",
    "if torch.cuda.is_available():\n",
    "    torch.set_default_tensor_type(torch.cuda.FloatTensor)\n",
    "    device = torch.device(\"cuda:0\")\n",
    "print(\"==run on=> \", device)\n",
    "\n",
    "myNorm = Normal(torch.tensor([centre]), torch.tensor([1.0]))\n",
    "def logf(x):\n",
    "    return myNorm.log_prob(x[:,0])  + torch.log(x[:,0]>level)\\\n",
    "             + torch.log(x[:,1]>0) + torch.log(x[:,1]<1)\n",
    "\n",
    "def survey_sample(n, centre, rho = 1):\n",
    "    x = np.random.randn(n) * rho  + centre\n",
    "    y = np.random.uniform(size=n, low =0, high=1)\n",
    "    return torch.FloatTensor(np.concatenate([x.reshape(n, 1), y.reshape(n, 1)], axis=1)).to(device)\n",
    "\n",
    "def filterInputs(inputs):\n",
    "    return inputs[((inputs[:,0]>xlimits[0]) * (inputs[:,0]<xlimits[1]))\n",
    "                  * ((inputs[:,1]>ylimits[0]) * (inputs[:,1]<ylimits[1]))]\n",
    "\n",
    "def calLoss(inputs, log_prob):\n",
    "    return - ((logf(inputs) - log_prob).exp() * log_prob).mean()\n",
    "\n",
    "def plotHistory(history, level=10):\n",
    "    history = np.array(history)\n",
    "    idx =  np.where(history > level)[0][-1]\n",
    "    history =  history[idx+1:]\n",
    "    plt.plot(history)\n",
    "    plt.show()"
   ],
   "metadata": {
    "collapsed": false,
    "pycharm": {
     "name": "#%%\n"
    }
   }
  },
  {
   "cell_type": "code",
   "execution_count": 2,
   "outputs": [
    {
     "name": "stdout",
     "output_type": "stream",
     "text": [
      "===> tensor(6.8237) 0.010252835229039192\n",
      "tensor(4.2797) 0.022127367556095123\n",
      "tensor(4.5923) 0.021910443902015686\n",
      "tensor(4.5923) 0.017194855958223343\n",
      "tensor(4.8837) 0.010416178032755852\n",
      "tensor(5.2669) 0.012688317336142063\n"
     ]
    }
   ],
   "source": [
    "# flow = realnvp.SimpleRealNVP(\n",
    "#     features=2,\n",
    "#     hidden_features=20,\n",
    "#     num_layers=8,\n",
    "#     num_blocks_per_layer=2,\n",
    "# )\n",
    "\n",
    "flow = ar.MaskedAutoregressiveFlow(\n",
    "            features=2,\n",
    "            hidden_features=20,\n",
    "            num_layers=8,\n",
    "            num_blocks_per_layer=2,\n",
    "        )\n",
    "\n",
    "optimizer_servy = optim.Adam(flow.parameters(), lr=1e-2)\n",
    "history = []\n",
    "for epoch in range(100): #tqdm.notebook.tqdm(, desc='Survey', leave=False):\n",
    "    with torch.no_grad():\n",
    "        inputs = survey_sample(1000, 3, 5).to(device)\n",
    "        inputs  = filterInputs(inputs)\n",
    "        # print(inputs.shape)\n",
    "    log_prob = flow.log_prob(inputs)\n",
    "    optimizer_servy.zero_grad()\n",
    "    loss = calLoss(inputs, log_prob)\n",
    "    loss.backward()\n",
    "    if loss == torch.nan:\n",
    "        break\n",
    "    optimizer_servy.step()\n",
    "    history.append(loss.item())\n",
    "\n",
    "print(\"===>\", inputs[:,0].mean(), loss.item())\n",
    "optimizer_refine = optim.Adam(flow.parameters(), lr=5e-4)\n",
    "for epoch in range(1000): #tqdm.notebook.tqdm(, desc='Refine', leave=False):\n",
    "    # print(epoch)\n",
    "    with torch.no_grad():\n",
    "        inputs = flow.sample(1000).detach()\n",
    "        inputs  = filterInputs(inputs)\n",
    "\n",
    "        if(epoch % 200 == 199):\n",
    "            print(inputs[:,0].mean(), loss.item())\n",
    "    log_prob = flow.log_prob(inputs)\n",
    "    optimizer_refine.zero_grad()\n",
    "    loss = calLoss(inputs, log_prob)\n",
    "    if loss == torch.nan:\n",
    "        break\n",
    "    loss.backward()\n",
    "    optimizer_refine.step()\n",
    "    history.append(loss.item())\n"
   ],
   "metadata": {
    "collapsed": false,
    "pycharm": {
     "name": "#%%\n"
    }
   }
  },
  {
   "cell_type": "code",
   "execution_count": 3,
   "outputs": [
    {
     "data": {
      "text/plain": "<Figure size 432x288 with 1 Axes>",
      "image/png": "[encoded data removed]"
     },
     "metadata": {
      "needs_background": "light"
     },
     "output_type": "display_data"
    },
    {
     "name": "stdout",
     "output_type": "stream",
     "text": [
      "real: 0.0013499000,\n",
      "mean: 0.0013476278,\n",
      " std: 0.0000553272, \n",
      "accuracy: 99.832%\n"
     ]
    }
   ],
   "source": [
    "def calIntegral(needprint=False):\n",
    "    with torch.no_grad():\n",
    "        x, loggx = flow.sample_and_log_prob(10000)\n",
    "        s0, s1 = x[:,0], x[:,1]\n",
    "\n",
    "        intgral = torch.exp(logf(x) - loggx).mean()\n",
    "\n",
    "        if(needprint):\n",
    "            plt.title(\"2d\")\n",
    "            # plt.subplot(122)\n",
    "            plt.hist((s0).detach().cpu().numpy(), bins=100,  range=(0,  10), density=True) #, range=(0,  200)\n",
    "            plt.title('1d')\n",
    "            plt.show()\n",
    "        return intgral.cpu()\n",
    "\n",
    "v = [calIntegral(i==0) for i in range(100)]\n",
    "real = 0.0013499\n",
    "print(\"real: %.10f,\\nmean: %.10f,\\n std: %.10f, \\naccuracy: %.3f%%\" % (real, np.mean(v),\n",
    "                                np.std(v), (1-np.abs(np.mean(v) - real)/real)*100))"
   ],
   "metadata": {
    "collapsed": false,
    "pycharm": {
     "name": "#%%\n"
    }
   }
  },
  {
   "cell_type": "markdown",
   "source": [
    "# 2D example"
   ],
   "metadata": {
    "collapsed": false,
    "pycharm": {
     "name": "#%% md\n"
    }
   }
  },
  {
   "cell_type": "code",
   "execution_count": 4,
   "metadata": {
    "collapsed": true,
    "pycharm": {
     "name": "#%%\n"
    }
   },
   "outputs": [
    {
     "name": "stdout",
     "output_type": "stream",
     "text": [
      "==run on=>  cpu\n"
     ]
    }
   ],
   "source": [
    "import torch\n",
    "import numpy as np\n",
    "from torch.distributions.normal import Normal\n",
    "import torch.optim as optim\n",
    "from nde.flows import autoregressive as ar\n",
    "import matplotlib.pyplot as plt\n",
    "\n",
    "device = torch.device(\"cpu\")\n",
    "if torch.cuda.is_available():\n",
    "    torch.set_default_tensor_type(torch.cuda.FloatTensor)\n",
    "    device = torch.device(\"cuda:0\")\n",
    "print(\"==run on=> \", device)\n",
    "\n",
    "centre = 0.0\n",
    "level = 10\n",
    "xlimits = [0, 30]\n",
    "ylimits = [0, 30]\n",
    "\n",
    "def logf(x):\n",
    "      return -x[:, 0] -x[:, 1] + torch.log(x[:,0] + x[:,1] > level) \\\n",
    "             + torch.log(x[:,0]>0) + torch.log(x[:,1]>0)\n",
    "\n",
    "def survey_sample(n, centre, rho = 1):\n",
    "    x = np.random.uniform(size=n, low =0, high=level*1.5)\n",
    "    y = np.random.uniform(size=n, low =0, high=level*1.5)\n",
    "    return torch.FloatTensor(np.concatenate([x.reshape(n, 1), y.reshape(n, 1)], axis=1))\n",
    "\n",
    "def filterInputs(inputs):\n",
    "    return inputs[((inputs[:,0]>xlimits[0]) * (inputs[:,0]<xlimits[1]))\n",
    "                  * ((inputs[:,1]>ylimits[0]) * (inputs[:,1]<ylimits[1]))]\n",
    "\n",
    "def calLoss(inputs, log_prob):\n",
    "    return - ((logf(inputs) - log_prob).exp() * log_prob).mean()\n",
    "\n",
    "def plotHistory(history, level=10):\n",
    "    history = np.array(history)\n",
    "    # tmp  = np.where(history > level)\n",
    "    idx =  0\n",
    "    history =  history[idx+1:]\n",
    "    plt.plot(history)\n",
    "    plt.show()\n"
   ]
  },
  {
   "cell_type": "code",
   "execution_count": 5,
   "outputs": [
    {
     "name": "stdout",
     "output_type": "stream",
     "text": [
      "===> tensor(7.5398) 0.003690851852297783\n",
      "tensor(4.9178) 0.002317070262506604\n",
      "tensor(5.5075) 0.002277808263897896\n",
      "tensor(5.6740) 0.0020546424202620983\n",
      "tensor(5.4421) 0.0021197274327278137\n",
      "tensor(5.5794) 0.002007219707593322\n"
     ]
    }
   ],
   "source": [
    "# flow = realnvp.SimpleRealNVP(\n",
    "#     features=2,\n",
    "#     hidden_features=20,\n",
    "#     num_layers=8,\n",
    "#     num_blocks_per_layer=2,\n",
    "# )\n",
    "#\n",
    "flow = ar.MaskedAutoregressiveFlow(\n",
    "            features=2,\n",
    "            hidden_features=20,\n",
    "            num_layers=8,\n",
    "            num_blocks_per_layer=2,\n",
    "        )\n",
    "\n",
    "optimizer_servy = optim.Adam(flow.parameters(), lr=1e-2)\n",
    "history = []\n",
    "for epoch in range(100): #tqdm.notebook.tqdm(, desc='Survey', leave=False):\n",
    "    with torch.no_grad():\n",
    "        inputs = survey_sample(1000, level + 0.2).to(device)\n",
    "        # inputs = survey_sample(1000, 1, 5)\n",
    "        inputs  = filterInputs(inputs)\n",
    "        # print(inputs.shape)\n",
    "    log_prob = flow.log_prob(inputs)\n",
    "    optimizer_servy.zero_grad()\n",
    "    loss = calLoss(inputs, log_prob)\n",
    "    loss.backward()\n",
    "    if torch.isnan(loss):\n",
    "        break\n",
    "    optimizer_servy.step()\n",
    "    history.append(loss.item())\n",
    "\n",
    "print(\"===>\", inputs[:,0].mean(), loss.item())\n",
    "optimizer_refine = optim.Adam(flow.parameters(), lr=5e-4)\n",
    "for epoch in range(500): #tqdm.notebook.tqdm(, desc='Refine', leave=False):\n",
    "    if torch.isnan(loss):\n",
    "        break\n",
    "    # print(epoch)\n",
    "    with torch.no_grad():\n",
    "        inputs = flow.sample(1000).detach()\n",
    "        inputs  = filterInputs(inputs)\n",
    "        if(epoch % 100 == 99):\n",
    "            print(inputs[:,0].mean(), loss.item())\n",
    "    log_prob = flow.log_prob(inputs)\n",
    "    optimizer_refine.zero_grad()\n",
    "    loss = calLoss(inputs, log_prob)\n",
    "\n",
    "    loss.backward()\n",
    "    optimizer_refine.step()\n",
    "    history.append(loss.item())\n",
    "\n",
    "# plotHistory(history, 5)\n",
    "\n"
   ],
   "metadata": {
    "collapsed": false,
    "pycharm": {
     "name": "#%%\n"
    }
   }
  },
  {
   "cell_type": "code",
   "execution_count": 6,
   "outputs": [
    {
     "data": {
      "text/plain": "<Figure size 432x288 with 1 Axes>",
      "image/png": "[encoded data removed]"
     },
     "metadata": {
      "needs_background": "light"
     },
     "output_type": "display_data"
    },
    {
     "name": "stdout",
     "output_type": "stream",
     "text": [
      "real: 0.0004994000,\n",
      "mean: 0.0004992008,\n",
      " std: 0.0000054423, \n",
      "accuracy: 99.960%\n"
     ]
    }
   ],
   "source": [
    "def calIntegral(needprint=False):\n",
    "    if torch.isnan(loss):\n",
    "        print(\"Nan!\")\n",
    "        return\n",
    "    with torch.no_grad():\n",
    "        x, loggx = flow.sample_and_log_prob(10000)\n",
    "        x = x.cpu()\n",
    "        loggx=loggx.cpu()\n",
    "        s0, s1 = x[:,0], x[:,1]\n",
    "\n",
    "        intgral = torch.exp(logf(x) - loggx).mean()\n",
    "\n",
    "        if(needprint):\n",
    "            plt.scatter(s0, s1, marker='o', alpha=0.05)\n",
    "            plt.plot(0, 0, 'rp', markersize=5)\n",
    "            plt.xlim([-5, 20])\n",
    "            plt.ylim([-5, 20])\n",
    "            plt.show()\n",
    "        return intgral\n",
    "\n",
    "v = [calIntegral(i==0) for i in range(100)]\n",
    "real = 0.0004994\n",
    "print(\"real: %.10f,\\nmean: %.10f,\\n std: %.10f, \\naccuracy: %.3f%%\" % (real, np.mean(v),\n",
    "                                np.std(v), (1-np.abs(np.mean(v) - real)/real)*100))"
   ],
   "metadata": {
    "collapsed": false,
    "pycharm": {
     "name": "#%%\n"
    }
   }
  },
  {
   "cell_type": "code",
   "execution_count": 8,
   "outputs": [],
   "source": [],
   "metadata": {
    "collapsed": false,
    "pycharm": {
     "name": "#%%\n"
    }
   }
  }
 ],
 "metadata": {
  "kernelspec": {
   "display_name": "Python 3",
   "language": "python",
   "name": "python3"
  },
  "language_info": {
   "codemirror_mode": {
    "name": "ipython",
    "version": 2
   },
   "file_extension": ".py",
   "mimetype": "text/x-python",
   "name": "python",
   "nbconvert_exporter": "python",
   "pygments_lexer": "ipython2",
   "version": "2.7.6"
  }
 },
 "nbformat": 4,
 "nbformat_minor": 0
}