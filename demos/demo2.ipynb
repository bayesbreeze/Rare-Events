{
 "cells": [
  {
   "cell_type": "markdown",
   "metadata": {
    "pycharm": {
     "name": "#%% md\n"
    }
   },
   "source": [
    "<a href=\"https://colab.research.google.com/github/bayesbreeze/Rare-Events/blob/main/demos/demo2.ipynb\" target=\"_parent\"><img src=\"https://colab.research.google.com/assets/colab-badge.svg\" alt=\"Open In Colab\"/></a>"
   ]
  },
  {
   "cell_type": "code",
   "execution_count": null,
   "metadata": {
    "collapsed": false,
    "jupyter": {
     "outputs_hidden": false
    },
    "pycharm": {
     "name": "#%%\n"
    }
   },
   "outputs": [],
   "source": [
    "!git clone https://github.com/bayesbreeze/Rare-Events.git"
   ]
  },
  {
   "cell_type": "code",
   "execution_count": null,
   "metadata": {
    "collapsed": false,
    "jupyter": {
     "outputs_hidden": false
    },
    "pycharm": {
     "name": "#%%\n"
    }
   },
   "outputs": [],
   "source": [
    "cd Rare-Events/demos"
   ]
  },
  {
   "cell_type": "markdown",
   "metadata": {
    "pycharm": {
     "name": "#%% md\n"
    }
   },
   "source": [
    "# 1D example\n",
    "\n"
   ]
  },
  {
   "cell_type": "code",
   "execution_count": 1,
   "metadata": {
    "collapsed": false,
    "jupyter": {
     "outputs_hidden": false
    },
    "pycharm": {
     "name": "#%%\n"
    }
   },
   "outputs": [
    {
     "name": "stdout",
     "output_type": "stream",
     "text": [
      "==run on=>  cpu\n"
     ]
    }
   ],
   "source": [
    "import torch\n",
    "import numpy as np\n",
    "from torch.distributions.normal import Normal\n",
    "import torch.optim as optim\n",
    "import torch.nn as nn\n",
    "from nde.flows import realnvp\n",
    "import tqdm\n",
    "import matplotlib.pyplot as plt\n",
    "from nde.flows import autoregressive as ar\n",
    "\n",
    "centre = 0.0\n",
    "level = 3\n",
    "xlimits = [3, 20]\n",
    "ylimits = [0, 1]\n",
    "\n",
    "device = torch.device(\"cpu\")\n",
    "if torch.cuda.is_available():\n",
    "    torch.set_default_tensor_type(torch.cuda.FloatTensor)\n",
    "    device = torch.device(\"cuda:0\")\n",
    "print(\"==run on=> \", device)\n",
    "\n",
    "myNorm = Normal(torch.tensor([centre]), torch.tensor([1.0]))\n",
    "def logf(x):\n",
    "    return myNorm.log_prob(x[:,0])  + torch.log(x[:,0]>level)\\\n",
    "             + torch.log(x[:,1]>0) + torch.log(x[:,1]<1)\n",
    "\n",
    "def survey_sample(n, centre, rho = 1):\n",
    "    x = np.random.randn(n) * rho  + centre\n",
    "    y = np.random.uniform(size=n, low =0, high=1)\n",
    "    return torch.FloatTensor(np.concatenate([x.reshape(n, 1), y.reshape(n, 1)], axis=1)).to(device)\n",
    "\n",
    "def filterInputs(inputs):\n",
    "    return inputs[((inputs[:,0]>xlimits[0]) * (inputs[:,0]<xlimits[1]))\n",
    "                  * ((inputs[:,1]>ylimits[0]) * (inputs[:,1]<ylimits[1]))]\n",
    "\n",
    "def calLoss(inputs, log_prob):\n",
    "    return - ((logf(inputs) - log_prob).exp() * log_prob).mean()\n",
    "\n",
    "def plotHistory(history, level=10):\n",
    "    history = np.array(history)\n",
    "    idx =  np.where(history > level)[0][-1]\n",
    "    history =  history[idx+1:]\n",
    "    plt.plot(history)\n",
    "    plt.show()"
   ]
  },
  {
   "cell_type": "code",
   "execution_count": 2,
   "metadata": {
    "collapsed": false,
    "jupyter": {
     "outputs_hidden": false
    },
    "pycharm": {
     "name": "#%%\n"
    }
   },
   "outputs": [
    {
     "name": "stdout",
     "output_type": "stream",
     "text": [
      "===> tensor(6.7297) 0.009595748037099838\n",
      "tensor(4.5720) 0.013156194239854813\n",
      "tensor(4.5829) 0.018378565087914467\n",
      "tensor(4.6172) 0.01543896459043026\n",
      "tensor(4.4706) 0.015161493793129921\n",
      "tensor(4.5157) 0.013747112825512886\n"
     ]
    }
   ],
   "source": [
    "# flow = realnvp.SimpleRealNVP(\n",
    "#     features=2,\n",
    "#     hidden_features=20,\n",
    "#     num_layers=8,\n",
    "#     num_blocks_per_layer=2,\n",
    "# )\n",
    "\n",
    "flow = ar.MaskedAutoregressiveFlow(\n",
    "            features=2,\n",
    "            hidden_features=20,\n",
    "            num_layers=8,\n",
    "            num_blocks_per_layer=2,\n",
    "        )\n",
    "\n",
    "optimizer_servy = optim.Adam(flow.parameters(), lr=1e-2)\n",
    "history = []\n",
    "for epoch in range(100): #tqdm.notebook.tqdm(, desc='Survey', leave=False):\n",
    "    with torch.no_grad():\n",
    "        inputs = survey_sample(1000, 3, 5).to(device)\n",
    "        inputs  = filterInputs(inputs)\n",
    "        # print(inputs.shape)\n",
    "    log_prob = flow.log_prob(inputs)\n",
    "    optimizer_servy.zero_grad()\n",
    "    loss = calLoss(inputs, log_prob)\n",
    "    loss.backward()\n",
    "    if loss == torch.nan:\n",
    "        break\n",
    "    optimizer_servy.step()\n",
    "    history.append(loss.item())\n",
    "\n",
    "print(\"===>\", inputs[:,0].mean(), loss.item())\n",
    "optimizer_refine = optim.Adam(flow.parameters(), lr=5e-4)\n",
    "for epoch in range(1000): #tqdm.notebook.tqdm(, desc='Refine', leave=False):\n",
    "    # print(epoch)\n",
    "    with torch.no_grad():\n",
    "        inputs = flow.sample(1000).detach()\n",
    "        inputs  = filterInputs(inputs)\n",
    "\n",
    "        if(epoch % 200 == 199):\n",
    "            print(inputs[:,0].mean(), loss.item())\n",
    "    log_prob = flow.log_prob(inputs)\n",
    "    optimizer_refine.zero_grad()\n",
    "    loss = calLoss(inputs, log_prob)\n",
    "    if loss == torch.nan:\n",
    "        break\n",
    "    loss.backward()\n",
    "    optimizer_refine.step()\n",
    "    history.append(loss.item())\n"
   ]
  },
  {
   "cell_type": "code",
   "execution_count": 3,
   "metadata": {
    "collapsed": false,
    "jupyter": {
     "outputs_hidden": false
    },
    "pycharm": {
     "name": "#%%\n"
    }
   },
   "outputs": [
    {
     "data": {
      "image/png": "[encoded data removed]",
      "text/plain": [
       "<Figure size 432x288 with 1 Axes>"
      ]
     },
     "metadata": {
      "needs_background": "light"
     },
     "output_type": "display_data"
    },
    {
     "name": "stdout",
     "output_type": "stream",
     "text": [
      "real: 0.0013499000,\n",
      "mean: 0.0013528907,\n",
      " std: 0.0000488349, \n",
      "accuracy: 99.778%\n"
     ]
    }
   ],
   "source": [
    "def calIntegral(needprint=False):\n",
    "    with torch.no_grad():\n",
    "        x, loggx = flow.sample_and_log_prob(10000)\n",
    "        s0, s1 = x[:,0], x[:,1]\n",
    "\n",
    "        intgral = torch.exp(logf(x) - loggx).mean()\n",
    "\n",
    "        if(needprint):\n",
    "            plt.title(\"2d\")\n",
    "            # plt.subplot(122)\n",
    "            plt.hist((s0).detach().cpu().numpy(), bins=100,  range=(0,  10), density=True) #, range=(0,  200)\n",
    "            plt.title('1d')\n",
    "            plt.show()\n",
    "        return intgral.cpu()\n",
    "\n",
    "v = [calIntegral(i==0) for i in range(100)]\n",
    "real = 0.0013499\n",
    "print(\"real: %.10f,\\nmean: %.10f,\\n std: %.10f, \\naccuracy: %.3f%%\" % (real, np.mean(v),\n",
    "                                np.std(v), (1-np.abs(np.mean(v) - real)/real)*100))"
   ]
  },
  {
   "cell_type": "markdown",
   "metadata": {
    "pycharm": {
     "name": "#%% md\n"
    }
   },
   "source": [
    "# 2D example"
   ]
  },
  {
   "cell_type": "code",
   "execution_count": 4,
   "metadata": {
    "pycharm": {
     "name": "#%%\n"
    }
   },
   "outputs": [
    {
     "name": "stdout",
     "output_type": "stream",
     "text": [
      "==run on=>  cpu\n"
     ]
    }
   ],
   "source": [
    "import torch\n",
    "import numpy as np\n",
    "from torch.distributions.normal import Normal\n",
    "import torch.optim as optim\n",
    "from nde.flows import autoregressive as ar\n",
    "import matplotlib.pyplot as plt\n",
    "\n",
    "device = torch.device(\"cpu\")\n",
    "if torch.cuda.is_available():\n",
    "    torch.set_default_tensor_type(torch.cuda.FloatTensor)\n",
    "    device = torch.device(\"cuda:0\")\n",
    "print(\"==run on=> \", device)\n",
    "\n",
    "centre = 0.0\n",
    "level = 10\n",
    "xlimits = [0, 30]\n",
    "ylimits = [0, 30]\n",
    "\n",
    "def logf(x):\n",
    "      return -x[:, 0] -x[:, 1] + torch.log(x[:,0] + x[:,1] > level) \\\n",
    "             + torch.log(x[:,0]>0) + torch.log(x[:,1]>0)\n",
    "\n",
    "def survey_sample(n, centre, rho = 1):\n",
    "    x = np.random.uniform(size=n, low =0, high=level*1.5)\n",
    "    y = np.random.uniform(size=n, low =0, high=level*1.5)\n",
    "    return torch.FloatTensor(np.concatenate([x.reshape(n, 1), y.reshape(n, 1)], axis=1))\n",
    "\n",
    "def filterInputs(inputs):\n",
    "    return inputs[((inputs[:,0]>xlimits[0]) * (inputs[:,0]<xlimits[1]))\n",
    "                  * ((inputs[:,1]>ylimits[0]) * (inputs[:,1]<ylimits[1]))]\n",
    "\n",
    "def calLoss(inputs, log_prob):\n",
    "    return - ((logf(inputs) - log_prob).exp() * log_prob).mean()\n",
    "\n",
    "def plotHistory(history, level=10):\n",
    "    history = np.array(history)\n",
    "    # tmp  = np.where(history > level)\n",
    "    idx =  0\n",
    "    history =  history[idx+1:]\n",
    "    plt.plot(history)\n",
    "    plt.show()\n"
   ]
  },
  {
   "cell_type": "code",
   "execution_count": 5,
   "metadata": {
    "collapsed": false,
    "jupyter": {
     "outputs_hidden": false
    },
    "pycharm": {
     "name": "#%%\n"
    }
   },
   "outputs": [
    {
     "name": "stdout",
     "output_type": "stream",
     "text": [
      "===> tensor(7.6455) 0.04829224944114685\n",
      "tensor(6.0153) 0.002670843852683902\n",
      "tensor(6.2609) 0.0024038103874772787\n",
      "tensor(6.3700) 0.0020029544830322266\n",
      "tensor(5.6576) 0.001960553927347064\n",
      "tensor(5.7755) 0.001835877657867968\n"
     ]
    }
   ],
   "source": [
    "# flow = realnvp.SimpleRealNVP(\n",
    "#     features=2,\n",
    "#     hidden_features=20,\n",
    "#     num_layers=8,\n",
    "#     num_blocks_per_layer=2,\n",
    "# )\n",
    "#\n",
    "flow = ar.MaskedAutoregressiveFlow(\n",
    "            features=2,\n",
    "            hidden_features=20,\n",
    "            num_layers=8,\n",
    "            num_blocks_per_layer=2,\n",
    "        )\n",
    "\n",
    "optimizer_servy = optim.Adam(flow.parameters(), lr=1e-2)\n",
    "history = []\n",
    "for epoch in range(100): #tqdm.notebook.tqdm(, desc='Survey', leave=False):\n",
    "    with torch.no_grad():\n",
    "        inputs = survey_sample(1000, level + 0.2).to(device)\n",
    "        # inputs = survey_sample(1000, 1, 5)\n",
    "        inputs  = filterInputs(inputs)\n",
    "        # print(inputs.shape)\n",
    "    log_prob = flow.log_prob(inputs)\n",
    "    optimizer_servy.zero_grad()\n",
    "    loss = calLoss(inputs, log_prob)\n",
    "    loss.backward()\n",
    "    if torch.isnan(loss):\n",
    "        break\n",
    "    optimizer_servy.step()\n",
    "    history.append(loss.item())\n",
    "\n",
    "print(\"===>\", inputs[:,0].mean(), loss.item())\n",
    "optimizer_refine = optim.Adam(flow.parameters(), lr=5e-4)\n",
    "for epoch in range(500): #tqdm.notebook.tqdm(, desc='Refine', leave=False):\n",
    "    if torch.isnan(loss):\n",
    "        break\n",
    "    # print(epoch)\n",
    "    with torch.no_grad():\n",
    "        inputs = flow.sample(1000).detach()\n",
    "        inputs  = filterInputs(inputs)\n",
    "        if(epoch % 100 == 99):\n",
    "            print(inputs[:,0].mean(), loss.item())\n",
    "    log_prob = flow.log_prob(inputs)\n",
    "    optimizer_refine.zero_grad()\n",
    "    loss = calLoss(inputs, log_prob)\n",
    "\n",
    "    loss.backward()\n",
    "    optimizer_refine.step()\n",
    "    history.append(loss.item())\n",
    "\n",
    "# plotHistory(history, 5)\n",
    "\n"
   ]
  },
  {
   "cell_type": "code",
   "execution_count": 6,
   "metadata": {
    "collapsed": false,
    "jupyter": {
     "outputs_hidden": false
    },
    "pycharm": {
     "name": "#%%\n"
    }
   },
   "outputs": [
    {
     "data": {
      "image/png": "[encoded data removed]",
      "text/plain": [
       "<Figure size 432x288 with 1 Axes>"
      ]
     },
     "metadata": {
      "needs_background": "light"
     },
     "output_type": "display_data"
    },
    {
     "name": "stdout",
     "output_type": "stream",
     "text": [
      "real: 0.0004994000,\n",
      "mean: 0.0004993444,\n",
      " std: 0.0000034910, \n",
      "accuracy: 99.989%\n"
     ]
    }
   ],
   "source": [
    "def calIntegral(needprint=False):\n",
    "    if torch.isnan(loss):\n",
    "        print(\"Nan!\")\n",
    "        return\n",
    "    with torch.no_grad():\n",
    "        x, loggx = flow.sample_and_log_prob(10000)\n",
    "        x = x.cpu()\n",
    "        loggx=loggx.cpu()\n",
    "        s0, s1 = x[:,0], x[:,1]\n",
    "\n",
    "        intgral = torch.exp(logf(x) - loggx).mean()\n",
    "\n",
    "        if(needprint):\n",
    "            plt.scatter(s0, s1, marker='o', alpha=0.05)\n",
    "            plt.plot(0, 0, 'rp', markersize=5)\n",
    "            plt.xlim([-5, 20])\n",
    "            plt.ylim([-5, 20])\n",
    "            plt.show()\n",
    "        return intgral\n",
    "\n",
    "v = [calIntegral(i==0) for i in range(100)]\n",
    "real = 0.0004994\n",
    "print(\"real: %.10f,\\nmean: %.10f,\\n std: %.10f, \\naccuracy: %.3f%%\" % (real, np.mean(v),\n",
    "                                np.std(v), (1-np.abs(np.mean(v) - real)/real)*100))"
   ]
  },
  {
   "cell_type": "code",
   "execution_count": null,
   "metadata": {
    "collapsed": false,
    "jupyter": {
     "outputs_hidden": false
    },
    "pycharm": {
     "name": "#%%\n"
    }
   },
   "outputs": [],
   "source": []
  }
 ],
 "metadata": {
  "kernelspec": {
   "display_name": "Python 3 (ipykernel)",
   "language": "python",
   "name": "python3"
  },
  "language_info": {
   "codemirror_mode": {
    "name": "ipython",
    "version": 3
   },
   "file_extension": ".py",
   "mimetype": "text/x-python",
   "name": "python",
   "nbconvert_exporter": "python",
   "pygments_lexer": "ipython3",
   "version": "3.9.7"
  }
 },
 "nbformat": 4,
 "nbformat_minor": 4
}
