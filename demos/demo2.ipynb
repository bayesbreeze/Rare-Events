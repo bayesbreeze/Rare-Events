{
 "cells": [
  {
   "cell_type": "markdown",
   "source": [
    "<a href=\"https://colab.research.google.com/github/bayesbreeze/Rare-Events/blob/main/demos/demo2.ipynb\" target=\"_parent\"><img src=\"https://colab.research.google.com/assets/colab-badge.svg\" alt=\"Open In Colab\"/></a>"
   ],
   "metadata": {
    "collapsed": false,
    "pycharm": {
     "name": "#%% md\n"
    }
   }
  },
  {
   "cell_type": "code",
   "execution_count": null,
   "outputs": [],
   "source": [
    "!git clone https://github.com/bayesbreeze/Rare-Events.git"
   ],
   "metadata": {
    "collapsed": false,
    "pycharm": {
     "name": "#%%\n"
    }
   }
  },
  {
   "cell_type": "code",
   "execution_count": null,
   "outputs": [],
   "source": [
    "!cd Rare-Events/demos"
   ],
   "metadata": {
    "collapsed": false,
    "pycharm": {
     "name": "#%%\n"
    }
   }
  },
  {
   "cell_type": "markdown",
   "source": [
    "# 1D example"
   ],
   "metadata": {
    "collapsed": false,
    "pycharm": {
     "name": "#%% md\n"
    }
   }
  },
  {
   "cell_type": "code",
   "execution_count": 1,
   "outputs": [
    {
     "name": "stdout",
     "output_type": "stream",
     "text": [
      "==run on=>  cpu\n"
     ]
    }
   ],
   "source": [
    "import torch\n",
    "import numpy as np\n",
    "from torch.distributions.normal import Normal\n",
    "import torch.optim as optim\n",
    "import torch.nn as nn\n",
    "from nde.flows import realnvp\n",
    "import tqdm\n",
    "import matplotlib.pyplot as plt\n",
    "from nde.flows import autoregressive as ar\n",
    "\n",
    "centre = 0.0\n",
    "level = 3\n",
    "xlimits = [3, 20]\n",
    "ylimits = [0, 1]\n",
    "\n",
    "device = torch.device(\"cpu\")\n",
    "if torch.cuda.is_available():\n",
    "    torch.set_default_tensor_type(torch.cuda.FloatTensor)\n",
    "    device = torch.device(\"cuda:0\")\n",
    "print(\"==run on=> \", device)\n",
    "\n",
    "myNorm = Normal(torch.tensor([centre]), torch.tensor([1.0]))\n",
    "def logf(x):\n",
    "    return myNorm.log_prob(x[:,0])  + torch.log(x[:,0]>level)\\\n",
    "             + torch.log(x[:,1]>0) + torch.log(x[:,1]<1)\n",
    "\n",
    "def survey_sample(n, centre, rho = 1):\n",
    "    x = np.random.randn(n) * rho  + centre\n",
    "    y = np.random.uniform(size=n, low =0, high=1)\n",
    "    return torch.FloatTensor(np.concatenate([x.reshape(n, 1), y.reshape(n, 1)], axis=1)).to(device)\n",
    "\n",
    "def filterInputs(inputs):\n",
    "    return inputs[((inputs[:,0]>xlimits[0]) * (inputs[:,0]<xlimits[1]))\n",
    "                  * ((inputs[:,1]>ylimits[0]) * (inputs[:,1]<ylimits[1]))]\n",
    "\n",
    "def calLoss(inputs, log_prob):\n",
    "    return - ((logf(inputs) - log_prob).exp() * log_prob).mean()\n",
    "\n",
    "def plotHistory(history, level=10):\n",
    "    history = np.array(history)\n",
    "    idx =  np.where(history > level)[0][-1]\n",
    "    history =  history[idx+1:]\n",
    "    plt.plot(history)\n",
    "    plt.show()"
   ],
   "metadata": {
    "collapsed": false,
    "pycharm": {
     "name": "#%%\n"
    }
   }
  },
  {
   "cell_type": "code",
   "execution_count": 2,
   "outputs": [
    {
     "name": "stdout",
     "output_type": "stream",
     "text": [
      "===> tensor(6.9556) 0.0036003387067466974\n",
      "tensor(4.6825) 0.007543741725385189\n",
      "tensor(4.7935) 0.006735433824360371\n"
     ]
    }
   ],
   "source": [
    "flow = realnvp.SimpleRealNVP(\n",
    "    features=2,\n",
    "    hidden_features=20,\n",
    "    num_layers=8,\n",
    "    num_blocks_per_layer=2,\n",
    ")\n",
    "\n",
    "# flow = ar.MaskedAutoregressiveFlow(\n",
    "#             features=2,\n",
    "#             hidden_features=20,\n",
    "#             num_layers=8,\n",
    "#             num_blocks_per_layer=2,\n",
    "#         )\n",
    "\n",
    "optimizer_servy = optim.Adam(flow.parameters(), lr=1e-2)\n",
    "history = []\n",
    "for epoch in range(100): #tqdm.notebook.tqdm(, desc='Survey', leave=False):\n",
    "    with torch.no_grad():\n",
    "        inputs = survey_sample(1000, 3, 5)\n",
    "        inputs  = filterInputs(inputs)\n",
    "        # print(inputs.shape)\n",
    "    log_prob = flow.log_prob(inputs)\n",
    "    optimizer_servy.zero_grad()\n",
    "    loss = calLoss(inputs, log_prob)\n",
    "    loss.backward()\n",
    "    if loss == torch.nan:\n",
    "        break\n",
    "    optimizer_servy.step()\n",
    "    history.append(loss.item())\n",
    "\n",
    "print(\"===>\", inputs[:,0].mean(), loss.item())\n",
    "optimizer_refine = optim.Adam(flow.parameters(), lr=5e-4)\n",
    "for epoch in range(1000): #tqdm.notebook.tqdm(, desc='Refine', leave=False):\n",
    "    # print(epoch)\n",
    "    with torch.no_grad():\n",
    "        inputs = flow.sample(1000).detach()\n",
    "        inputs  = filterInputs(inputs)\n",
    "\n",
    "        if(epoch % 500 == 499):\n",
    "            print(inputs[:,0].mean(), loss.item())\n",
    "    log_prob = flow.log_prob(inputs)\n",
    "    optimizer_refine.zero_grad()\n",
    "    loss = calLoss(inputs, log_prob)\n",
    "    if loss == torch.nan:\n",
    "        break\n",
    "    loss.backward()\n",
    "    optimizer_refine.step()\n",
    "    history.append(loss.item())\n"
   ],
   "metadata": {
    "collapsed": false,
    "pycharm": {
     "name": "#%%\n"
    }
   }
  },
  {
   "cell_type": "code",
   "execution_count": 3,
   "outputs": [
    {
     "data": {
      "text/plain": "<Figure size 432x288 with 1 Axes>",
      "image/png": "[encoded data removed]"
     },
     "metadata": {
      "needs_background": "light"
     },
     "output_type": "display_data"
    },
    {
     "name": "stdout",
     "output_type": "stream",
     "text": [
      "real: 0.0013499000,\n",
      "mean: 0.0013524088,\n",
      " std: 0.0000397770, \n",
      "accuracy: 99.814%\n"
     ]
    }
   ],
   "source": [
    "def calIntegral(needprint=False):\n",
    "    with torch.no_grad():\n",
    "        x, loggx = flow.sample_and_log_prob(10000)\n",
    "        s0, s1 = x[:,0], x[:,1]\n",
    "\n",
    "        intgral = torch.exp(logf(x) - loggx).mean()\n",
    "\n",
    "        if(needprint):\n",
    "            plt.title(\"2d\")\n",
    "            # plt.subplot(122)\n",
    "            plt.hist((s0).detach().numpy(), bins=100,  range=(0,  10), density=True) #, range=(0,  200)\n",
    "            plt.title('1d')\n",
    "            plt.show()\n",
    "        return intgral\n",
    "\n",
    "v = [calIntegral(i==0) for i in range(100)]\n",
    "real = 0.0013499\n",
    "print(\"real: %.10f,\\nmean: %.10f,\\n std: %.10f, \\naccuracy: %.3f%%\" % (real, np.mean(v),\n",
    "                                np.std(v), (1-np.abs(np.mean(v) - real)/real)*100))"
   ],
   "metadata": {
    "collapsed": false,
    "pycharm": {
     "name": "#%%\n"
    }
   }
  },
  {
   "cell_type": "markdown",
   "source": [
    "# 2D example"
   ],
   "metadata": {
    "collapsed": false,
    "pycharm": {
     "name": "#%% md\n"
    }
   }
  },
  {
   "cell_type": "code",
   "execution_count": 4,
   "metadata": {
    "collapsed": true,
    "pycharm": {
     "name": "#%%\n"
    }
   },
   "outputs": [
    {
     "name": "stdout",
     "output_type": "stream",
     "text": [
      "==run on=>  cpu\n"
     ]
    }
   ],
   "source": [
    "import torch\n",
    "import numpy as np\n",
    "from torch.distributions.normal import Normal\n",
    "import torch.optim as optim\n",
    "from nde.flows import autoregressive as ar\n",
    "import matplotlib.pyplot as plt\n",
    "\n",
    "device = torch.device(\"cpu\")\n",
    "if torch.cuda.is_available():\n",
    "    torch.set_default_tensor_type(torch.cuda.FloatTensor)\n",
    "    device = torch.device(\"cuda:0\")\n",
    "print(\"==run on=> \", device)\n",
    "\n",
    "centre = 0.0\n",
    "level = 10\n",
    "xlimits = [0, 30]\n",
    "ylimits = [0, 30]\n",
    "myNorm = Normal(torch.tensor([centre]), torch.tensor([1.0]))\n",
    "def logf(x):\n",
    "    return myNorm.log_prob(x[:,0])  + torch.log(x[:,0]>level)\\\n",
    "             + torch.log(x[:,1]>0) + torch.log(x[:,1]<1)\n",
    "\n",
    "def logf(x):\n",
    "      return -x[:, 0] -x[:, 1] + torch.log(x[:,0] + x[:,1] > level) \\\n",
    "             + torch.log(x[:,0]>0) + torch.log(x[:,1]>0)\n",
    "\n",
    "def survey_sample(n, centre, rho = 1):\n",
    "    x = np.random.uniform(size=n, low =0, high=level*1.5)\n",
    "    y = np.random.uniform(size=n, low =0, high=level*1.5)\n",
    "    return torch.FloatTensor(np.concatenate([x.reshape(n, 1), y.reshape(n, 1)], axis=1))\n",
    "\n",
    "def filterInputs(inputs):\n",
    "    return inputs[((inputs[:,0]>xlimits[0]) * (inputs[:,0]<xlimits[1]))\n",
    "                  * ((inputs[:,1]>ylimits[0]) * (inputs[:,1]<ylimits[1]))]\n",
    "\n",
    "def calLoss(inputs, log_prob):\n",
    "    return - ((logf(inputs) - log_prob).exp() * log_prob).mean()\n",
    "\n",
    "def plotHistory(history, level=10):\n",
    "    history = np.array(history)\n",
    "    # tmp  = np.where(history > level)\n",
    "    idx =  0\n",
    "    history =  history[idx+1:]\n",
    "    plt.plot(history)\n",
    "    plt.show()\n"
   ]
  },
  {
   "cell_type": "code",
   "execution_count": 5,
   "outputs": [
    {
     "name": "stdout",
     "output_type": "stream",
     "text": [
      "===> tensor(7.4085) 0.0017996311653405428\n",
      "tensor(5.6255) 0.002303703688085079\n",
      "tensor(5.6430) 0.002094592899084091\n",
      "tensor(5.6454) 0.0020328292157500982\n",
      "tensor(5.5184) 0.002051346004009247\n",
      "tensor(5.5548) 0.0021291684824973345\n"
     ]
    }
   ],
   "source": [
    "# flow = realnvp.SimpleRealNVP(\n",
    "#     features=2,\n",
    "#     hidden_features=20,\n",
    "#     num_layers=8,\n",
    "#     num_blocks_per_layer=2,\n",
    "# )\n",
    "#\n",
    "flow = ar.MaskedAutoregressiveFlow(\n",
    "            features=2,\n",
    "            hidden_features=20,\n",
    "            num_layers=8,\n",
    "            num_blocks_per_layer=2,\n",
    "        )\n",
    "\n",
    "optimizer_servy = optim.Adam(flow.parameters(), lr=1e-2)\n",
    "history = []\n",
    "for epoch in range(100): #tqdm.notebook.tqdm(, desc='Survey', leave=False):\n",
    "    with torch.no_grad():\n",
    "        inputs = survey_sample(1000, level + 0.2)\n",
    "        # inputs = survey_sample(1000, 1, 5)\n",
    "        inputs  = filterInputs(inputs)\n",
    "        # print(inputs.shape)\n",
    "    log_prob = flow.log_prob(inputs)\n",
    "    optimizer_servy.zero_grad()\n",
    "    loss = calLoss(inputs, log_prob)\n",
    "    loss.backward()\n",
    "    if torch.isnan(loss):\n",
    "        break\n",
    "    optimizer_servy.step()\n",
    "    history.append(loss.item())\n",
    "\n",
    "print(\"===>\", inputs[:,0].mean(), loss.item())\n",
    "optimizer_refine = optim.Adam(flow.parameters(), lr=5e-4)\n",
    "for epoch in range(500): #tqdm.notebook.tqdm(, desc='Refine', leave=False):\n",
    "    if torch.isnan(loss):\n",
    "        break\n",
    "    # print(epoch)\n",
    "    with torch.no_grad():\n",
    "        inputs = flow.sample(1000).detach()\n",
    "        inputs  = filterInputs(inputs)\n",
    "        if(epoch % 100 == 99):\n",
    "            print(inputs[:,0].mean(), loss.item())\n",
    "    log_prob = flow.log_prob(inputs)\n",
    "    optimizer_refine.zero_grad()\n",
    "    loss = calLoss(inputs, log_prob)\n",
    "\n",
    "    loss.backward()\n",
    "    optimizer_refine.step()\n",
    "    history.append(loss.item())\n",
    "\n",
    "# plotHistory(history, 5)\n",
    "\n"
   ],
   "metadata": {
    "collapsed": false,
    "pycharm": {
     "name": "#%%\n"
    }
   }
  },
  {
   "cell_type": "code",
   "execution_count": 7,
   "outputs": [
    {
     "data": {
      "text/plain": "<Figure size 432x288 with 1 Axes>",
      "image/png": "[encoded data removed]"
     },
     "metadata": {
      "needs_background": "light"
     },
     "output_type": "display_data"
    },
    {
     "name": "stdout",
     "output_type": "stream",
     "text": [
      "real: 0.0004994000,\n",
      "mean: 0.0004990606,\n",
      " std: 0.0000041152, \n",
      "accuracy: 99.932%\n"
     ]
    }
   ],
   "source": [
    "def calIntegral(needprint=False):\n",
    "    if torch.isnan(loss):\n",
    "        print(\"Nan!\")\n",
    "        return\n",
    "    with torch.no_grad():\n",
    "        x, loggx = flow.sample_and_log_prob(10000)\n",
    "        s0, s1 = x[:,0], x[:,1]\n",
    "\n",
    "        intgral = torch.exp(logf(x) - loggx).mean()\n",
    "\n",
    "        if(needprint):\n",
    "            plt.scatter(s0, s1, marker='o', alpha=0.05)\n",
    "            plt.plot(0, 0, 'rp', markersize=5)\n",
    "            plt.xlim([-5, 20])\n",
    "            plt.ylim([-5, 20])\n",
    "            plt.show()\n",
    "        return intgral\n",
    "\n",
    "v = [calIntegral(i==0) for i in range(100)]\n",
    "real = 0.0004994\n",
    "print(\"real: %.10f,\\nmean: %.10f,\\n std: %.10f, \\naccuracy: %.3f%%\" % (real, np.mean(v),\n",
    "                                np.std(v), (1-np.abs(np.mean(v) - real)/real)*100))"
   ],
   "metadata": {
    "collapsed": false,
    "pycharm": {
     "name": "#%%\n"
    }
   }
  },
  {
   "cell_type": "code",
   "execution_count": 6,
   "outputs": [],
   "source": [],
   "metadata": {
    "collapsed": false,
    "pycharm": {
     "name": "#%%\n"
    }
   }
  }
 ],
 "metadata": {
  "kernelspec": {
   "display_name": "Python 3",
   "language": "python",
   "name": "python3"
  },
  "language_info": {
   "codemirror_mode": {
    "name": "ipython",
    "version": 2
   },
   "file_extension": ".py",
   "mimetype": "text/x-python",
   "name": "python",
   "nbconvert_exporter": "python",
   "pygments_lexer": "ipython2",
   "version": "2.7.6"
  }
 },
 "nbformat": 4,
 "nbformat_minor": 0
}