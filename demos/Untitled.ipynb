{
 "cells": [
  {
   "cell_type": "code",
   "execution_count": 9,
   "id": "51e492d3-72fa-4722-a9cf-e54572e49c06",
   "metadata": {},
   "outputs": [
    {
     "name": "stdout",
     "output_type": "stream",
     "text": [
      "\n",
      "ell_hat =\n",
      "\n",
      "   1.6404e-12\n",
      "\n",
      "\n",
      "RE =\n",
      "\n",
      "   8.7357e-04\n",
      "\n"
     ]
    }
   ],
   "source": [
    "%siegmund.m\n",
    "mu=-1;N=10^6;gamma=13;W=nan(N,1);\n",
    "for i=1:N\n",
    "    S=0;\n",
    "    while S<gamma\n",
    "        X=-mu+randn;\n",
    "        S=S+X; \n",
    "    end\n",
    "    W(i)=exp(2*mu*S);\n",
    "end\n",
    "ell_hat=mean(W),RE=std(W)/mean(W)/sqrt(N)"
   ]
  },
  {
   "cell_type": "code",
   "execution_count": 13,
   "id": "ac1ad90c-3233-4911-a726-9443b7fcf2c3",
   "metadata": {},
   "outputs": [
    {
     "name": "stdout",
     "output_type": "stream",
     "text": [
      "\n",
      "ans =\n",
      "\n",
      "   8.4947e-10\n",
      "\n",
      "\n",
      "ans =\n",
      "\n",
      "    0.0036\n",
      "\n"
     ]
    }
   ],
   "source": [
    "%waitGG1.m\n",
    "N=10^5;gamma=13;W=nan(N,1);mu=2; lam=1/2;\n",
    "for i=1:N\n",
    "    S=0;\n",
    "    while S<gamma\n",
    "        X=-log(rand)/lam+log(rand)/mu;\n",
    "        S=S+X;\n",
    "    end\n",
    "    W(i)=exp(-(mu-lam)*S);\n",
    "end\n",
    "mean(W),std(W)/mean(W)/sqrt(N)\n"
   ]
  }
 ],
 "metadata": {
  "kernelspec": {
   "display_name": "Matlab",
   "language": "matlab",
   "name": "matlab"
  },
  "language_info": {
   "codemirror_mode": "octave",
   "file_extension": ".m",
   "help_links": [
    {
     "text": "MetaKernel Magics",
     "url": "https://metakernel.readthedocs.io/en/latest/source/README.html"
    }
   ],
   "mimetype": "text/x-octave",
   "name": "matlab",
   "version": "0.17.1"
  }
 },
 "nbformat": 4,
 "nbformat_minor": 5
}
